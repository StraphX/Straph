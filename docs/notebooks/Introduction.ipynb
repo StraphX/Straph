{
 "cells": [
  {
   "cell_type": "code",
   "execution_count": 2,
   "metadata": {},
   "outputs": [],
   "source": [
    "import matplotlib.pyplot as plt\n",
    "import straph as sg"
   ]
  },
  {
   "cell_type": "code",
   "execution_count": 3,
   "metadata": {},
   "outputs": [],
   "source": [
    "plt.rcParams[\"figure.figsize\"] = (12,9)"
   ]
  },
  {
   "cell_type": "markdown",
   "metadata": {},
   "source": [
    "# Introduction"
   ]
  },
  {
   "cell_type": "markdown",
   "metadata": {},
   "source": [
    "Formally, a stream graph $S = (T,V,W,E)$ is defined by a set of time instants $T$, a finite set of nodes $V$, a set of temporal nodes $W \\subseteq T \\times V$, and a set of temporal links $E\\subseteq T \\times V \\times V$.\n",
    "The set of time instants $T$ can be continuous or discrete. Likewise interactions (temporal links) between two nodes can be discrete $(b,b,u,v)$ or continuous $(b,e,u,v)$ (with $b,e \\in T$ and $u,v \\in V$)."
   ]
  },
  {
   "cell_type": "markdown",
   "metadata": {},
   "source": [
    "Stream graphs can be used to model any connected structure evolving through time. For instance, IP traffic between entities can be modelised as follow: whenever two IP adresses exchanges packets we record a temporal link between these two nodes corresponding to the duration of the exchange."
   ]
  },
  {
   "cell_type": "markdown",
   "metadata": {},
   "source": [
    "First, we load an artificial example that will be used in the following steps of analysis and visualisation."
   ]
  },
  {
   "cell_type": "code",
   "execution_count": 4,
   "metadata": {},
   "outputs": [],
   "source": [
    "path_directory = \"examples/\"\n",
    "S = sg.read_stream_graph(path_nodes=path_directory + \"example_nodes.sg\",\n",
    "                         path_links=path_directory + \"example_links.sg\")"
   ]
  },
  {
   "cell_type": "markdown",
   "metadata": {},
   "source": [
    "## Basic visualisation"
   ]
  },
  {
   "cell_type": "code",
   "execution_count": 5,
   "metadata": {},
   "outputs": [
    {
     "name": "stderr",
     "output_type": "stream",
     "text": [
      "findfont: Font family ['Garamond'] not found. Falling back to DejaVu Sans.\n"
     ]
    },
    {
     "data": {
      "image/png": "[encoded data removed]",
      "text/plain": [
       "<Figure size 864x648 with 1 Axes>"
      ]
     },
     "metadata": {
      "needs_background": "light"
     },
     "output_type": "display_data"
    }
   ],
   "source": [
    "fig = S.plot()"
   ]
  },
  {
   "cell_type": "markdown",
   "metadata": {},
   "source": [
    "We refer to this [Notebook](Drawing.ipynb) for more details on visualisation."
   ]
  },
  {
   "cell_type": "markdown",
   "metadata": {},
   "source": [
    "## Stream Graph Object"
   ]
  },
  {
   "cell_type": "markdown",
   "metadata": {},
   "source": [
    "**Paradigm**: In ``Straph`` simple data structures should be represented by built-in python objects, resulting in a more comprehensive and intuitive code.\n",
    "\n",
    "After a comparative analysis we choose to use the following data structures for manipulating stream graphs. (As numerous algorithms and basic computations are not based on vectorials operations ``Numpy`` arrays were deemed to slow.)"
   ]
  },
  {
   "cell_type": "markdown",
   "metadata": {},
   "source": [
    "A ``StreamGraph`` object is constituted by five main attributes:\n",
    "\n",
    "- ```times```: the time window of the stream graph ($T$)\n",
    "- ```nodes```: the list of nodes present in the stream graph ($V$)\n",
    "- ```node_presence```: a list of list, each list corresponds to a node and contains its presence time ($W$)\n",
    "- ```links```: the list of links present in the stream graph ($E$)\n",
    "- ```link_presence```: a list of list, each list corresponds to a link and contains its presence time ($E$)"
   ]
  },
  {
   "cell_type": "code",
   "execution_count": 6,
   "metadata": {},
   "outputs": [
    {
     "data": {
      "text/plain": [
       "[0.0, 10.0]"
      ]
     },
     "execution_count": 6,
     "metadata": {},
     "output_type": "execute_result"
    }
   ],
   "source": [
    "S.times"
   ]
  },
  {
   "cell_type": "markdown",
   "metadata": {},
   "source": [
    "The stream graph spans from instant $0$ to $10$"
   ]
  },
  {
   "cell_type": "code",
   "execution_count": 7,
   "metadata": {},
   "outputs": [
    {
     "data": {
      "text/plain": [
       "[0, 1, 2, 3, 4, 5]"
      ]
     },
     "execution_count": 7,
     "metadata": {},
     "output_type": "execute_result"
    }
   ],
   "source": [
    "S.nodes"
   ]
  },
  {
   "cell_type": "markdown",
   "metadata": {},
   "source": [
    "``S`` contains $6$ nodes.\n",
    "Nodes are always represented by integers, their labels can be stored in the attribute ```node_to_label```."
   ]
  },
  {
   "cell_type": "code",
   "execution_count": 8,
   "metadata": {},
   "outputs": [
    {
     "data": {
      "text/plain": [
       "{0: 'A', 1: 'B', 2: 'C', 3: 'D', 4: 'E', 5: 'F'}"
      ]
     },
     "execution_count": 8,
     "metadata": {},
     "output_type": "execute_result"
    }
   ],
   "source": [
    "S.node_to_label"
   ]
  },
  {
   "cell_type": "code",
   "execution_count": 9,
   "metadata": {},
   "outputs": [
    {
     "data": {
      "text/plain": [
       "[[0.0, 5.0, 7.0, 10.0],\n",
       " [0.0, 10.0],\n",
       " [0.0, 1.0, 4.0, 6.0],\n",
       " [0.0, 1.0, 2.0, 4.0, 8.0, 10.0],\n",
       " [0.0, 10.0],\n",
       " [0.0, 4.0, 6.0, 10.0]]"
      ]
     },
     "execution_count": 9,
     "metadata": {},
     "output_type": "execute_result"
    }
   ],
   "source": [
    "S.node_presence"
   ]
  },
  {
   "cell_type": "markdown",
   "metadata": {},
   "source": [
    "As we can see on the above figure, node $A$ with index $0$ is present from time $0$ to $5$, absent from $5$ to $7$ and present again from $7$ to $10$."
   ]
  },
  {
   "cell_type": "code",
   "execution_count": 10,
   "metadata": {},
   "outputs": [
    {
     "data": {
      "text/plain": [
       "[(0, 1), (1, 2), (1, 4), (2, 3), (2, 4), (3, 4), (3, 5), (4, 5)]"
      ]
     },
     "execution_count": 10,
     "metadata": {},
     "output_type": "execute_result"
    }
   ],
   "source": [
    "S.links"
   ]
  },
  {
   "cell_type": "code",
   "execution_count": 11,
   "metadata": {},
   "outputs": [
    {
     "data": {
      "text/plain": [
       "[[0.0, 4.0, 8.0, 9.0],\n",
       " [4.0, 5.0],\n",
       " [7.0, 7.0],\n",
       " [0.0, 1.0],\n",
       " [5.0, 5.0],\n",
       " [2.0, 4.0, 8.0, 10.0],\n",
       " [3.0, 4.0],\n",
       " [0.0, 4.0, 6.0, 10.0]]"
      ]
     },
     "execution_count": 11,
     "metadata": {},
     "output_type": "execute_result"
    }
   ],
   "source": [
    "S.link_presence"
   ]
  },
  {
   "cell_type": "markdown",
   "metadata": {},
   "source": [
    "The link $(4,5)$ (corresponding to nodes $E$ and $F$) with index $5$ is active from time $0$ to $3$ and again from $7$ to $10$."
   ]
  },
  {
   "cell_type": "markdown",
   "metadata": {},
   "source": [
    "A short description of a stream graph scale can be obtained with ``.describe()``"
   ]
  },
  {
   "cell_type": "code",
   "execution_count": 12,
   "metadata": {},
   "outputs": [
    {
     "name": "stdout",
     "output_type": "stream",
     "text": [
      "Nb of Nodes :  6\n",
      "Nb of segmented nodes :  11.0\n",
      "Nb of links :  8\n",
      "Nb of segmented links :  11.0\n",
      "Nb of event times :  11\n"
     ]
    }
   ],
   "source": [
    "S.describe()"
   ]
  },
  {
   "cell_type": "markdown",
   "metadata": {},
   "source": [
    "We can add or remove nodes and links to/from a ``stream_graph`` object (we refer to this [notebook](Readers%20and%20Writers%20(Input-Output).ipynb) for further information).\n",
    "\n",
    "We can easily add a new node. Let's add $G$ present from $0$ to $3$ and from $8$ to $9$."
   ]
  },
  {
   "cell_type": "code",
   "execution_count": 13,
   "metadata": {},
   "outputs": [
    {
     "data": {
      "text/plain": [
       "6"
      ]
     },
     "execution_count": 13,
     "metadata": {},
     "output_type": "execute_result"
    }
   ],
   "source": [
    "S.add_node('G',[0,3,8,9])"
   ]
  },
  {
   "cell_type": "markdown",
   "metadata": {},
   "source": [
    "Likewise we can add a new link. If one of the extrimities is new, it will be added automatically for the duration of the link.\n",
    "Let's add a link $(G,H)$ from $1$ to $3$ and from $8$ to $9$."
   ]
  },
  {
   "cell_type": "code",
   "execution_count": 14,
   "metadata": {},
   "outputs": [
    {
     "data": {
      "image/png": "[encoded data removed]",
      "text/plain": [
       "<Figure size 864x648 with 1 Axes>"
      ]
     },
     "metadata": {
      "needs_background": "light"
     },
     "output_type": "display_data"
    }
   ],
   "source": [
    "S.add_link(('G','H'),[1,3,8,9])\n",
    "_ = S.plot()"
   ]
  },
  {
   "cell_type": "markdown",
   "metadata": {},
   "source": [
    "Let's remove these new interactions between nodes $G$ and $H$."
   ]
  },
  {
   "cell_type": "code",
   "execution_count": 15,
   "metadata": {},
   "outputs": [
    {
     "data": {
      "image/png": "[encoded data removed]",
      "text/plain": [
       "<Figure size 864x648 with 1 Axes>"
      ]
     },
     "metadata": {
      "needs_background": "light"
     },
     "output_type": "display_data"
    }
   ],
   "source": [
    "S.remove_link(('G','H'))\n",
    "_ = S.plot()"
   ]
  },
  {
   "cell_type": "markdown",
   "metadata": {},
   "source": [
    "*Note* : If we remove a node, all of its links will be automatically removed."
   ]
  },
  {
   "cell_type": "code",
   "execution_count": 16,
   "metadata": {},
   "outputs": [],
   "source": [
    "S.remove_node('G')\n",
    "S.remove_node('H')"
   ]
  },
  {
   "cell_type": "code",
   "execution_count": 17,
   "metadata": {},
   "outputs": [
    {
     "data": {
      "image/png": "[encoded data removed]",
      "text/plain": [
       "<Figure size 864x648 with 1 Axes>"
      ]
     },
     "metadata": {
      "needs_background": "light"
     },
     "output_type": "display_data"
    }
   ],
   "source": [
    "S.plot()\n",
    "plt.show()"
   ]
  },
  {
   "cell_type": "markdown",
   "metadata": {},
   "source": [
    "## Manipulating a Stream Graph Object"
   ]
  },
  {
   "cell_type": "markdown",
   "metadata": {},
   "source": [
    "There are several manners to manipulate a ``StreamGraph`` object:\n",
    "   - Iterate on nodes \n",
    "   - Iterate on links\n",
    "   - Iterate on temporally ordered links\n",
    "   - Iterate on temporally ordered events"
   ]
  },
  {
   "cell_type": "code",
   "execution_count": 18,
   "metadata": {},
   "outputs": [
    {
     "name": "stdout",
     "output_type": "stream",
     "text": [
      "Node  A  is present from  0.0  to  5.0\n",
      "Node  A  is present from  7.0  to  10.0\n",
      "Node  B  is present from  0.0  to  10.0\n",
      "Node  C  is present from  0.0  to  1.0\n",
      "Node  C  is present from  4.0  to  6.0\n",
      "Node  D  is present from  0.0  to  1.0\n",
      "Node  D  is present from  2.0  to  4.0\n",
      "Node  D  is present from  8.0  to  10.0\n",
      "Node  E  is present from  0.0  to  10.0\n",
      "Node  F  is present from  0.0  to  4.0\n",
      "Node  F  is present from  6.0  to  10.0\n"
     ]
    }
   ],
   "source": [
    "for n,np in zip(S.nodes,S.node_presence):\n",
    "    for b,e in zip(np[::2],np[1::2]): # Even index are arrivals and odd index departure\n",
    "        print(\"Node \",S.node_to_label[n],\" is present from \",b,\" to \",e)"
   ]
  },
  {
   "cell_type": "code",
   "execution_count": 19,
   "metadata": {},
   "outputs": [
    {
     "name": "stdout",
     "output_type": "stream",
     "text": [
      "Link  ('A', 'B')  is present from  0.0  to  4.0\n",
      "Link  ('A', 'B')  is present from  8.0  to  9.0\n",
      "Link  ('B', 'C')  is present from  4.0  to  5.0\n",
      "Link  ('B', 'E')  is present from  7.0  to  7.0\n",
      "Link  ('C', 'D')  is present from  0.0  to  1.0\n",
      "Link  ('C', 'E')  is present from  5.0  to  5.0\n",
      "Link  ('D', 'E')  is present from  2.0  to  4.0\n",
      "Link  ('D', 'E')  is present from  8.0  to  10.0\n",
      "Link  ('D', 'F')  is present from  3.0  to  4.0\n",
      "Link  ('E', 'F')  is present from  0.0  to  4.0\n",
      "Link  ('E', 'F')  is present from  6.0  to  10.0\n"
     ]
    }
   ],
   "source": [
    "for l,lp in zip(S.links,S.link_presence):\n",
    "    for b,e in zip(lp[::2],lp[1::2]): # Even index are arrivals and odd index departure\n",
    "        u,v = l\n",
    "        print(\"Link \",(S.node_to_label[u],S.node_to_label[v]),\" is present from \",b,\" to \",e)"
   ]
  },
  {
   "cell_type": "code",
   "execution_count": 20,
   "metadata": {},
   "outputs": [
    {
     "name": "stdout",
     "output_type": "stream",
     "text": [
      "Link arrival \t: (0.0, 4.0, 'A', 'B')\n",
      "Link arrival \t: (0.0, 1.0, 'C', 'D')\n",
      "Link arrival \t: (0.0, 4.0, 'E', 'F')\n",
      "Link departure \t: (1.0, 'C', 'D')\n",
      "Link arrival \t: (2.0, 4.0, 'D', 'E')\n",
      "Link arrival \t: (3.0, 4.0, 'D', 'F')\n",
      "Link arrival \t: (4.0, 5.0, 'B', 'C')\n",
      "Link departure \t: (4.0, 'A', 'B')\n",
      "Link departure \t: (4.0, 'D', 'E')\n",
      "Link departure \t: (4.0, 'D', 'F')\n",
      "Link departure \t: (4.0, 'E', 'F')\n",
      "Link arrival \t: (5.0, 5.0, 'C', 'E')\n",
      "Link departure \t: (5.0, 'B', 'C')\n",
      "Link departure \t: (5.0, 'C', 'E')\n",
      "Link arrival \t: (6.0, 10.0, 'E', 'F')\n",
      "Link arrival \t: (7.0, 7.0, 'B', 'E')\n",
      "Link departure \t: (7.0, 'B', 'E')\n",
      "Link arrival \t: (8.0, 9.0, 'A', 'B')\n",
      "Link arrival \t: (8.0, 10.0, 'D', 'E')\n",
      "Link departure \t: (9.0, 'A', 'B')\n",
      "Link departure \t: (10.0, 'D', 'E')\n",
      "Link departure \t: (10.0, 'E', 'F')\n"
     ]
    }
   ],
   "source": [
    "for e in S.ordered_links():\n",
    "    if e[0] == 1:\n",
    "        _, t0, t1, u, v = e\n",
    "        print(\"Link arrival \\t:\",(t0,t1,S.node_to_label[u],S.node_to_label[v]))\n",
    "    if e[0] == -1:\n",
    "        _, t1, u, v = e\n",
    "        print(\"Link departure \\t:\",(t1,S.node_to_label[u],S.node_to_label[v]))"
   ]
  },
  {
   "cell_type": "code",
   "execution_count": 21,
   "metadata": {},
   "outputs": [
    {
     "name": "stdout",
     "output_type": "stream",
     "text": [
      "Node arrival \t: (0.0, 5.0, 'A')\n",
      "Node arrival \t: (0.0, 10.0, 'B')\n",
      "Node arrival \t: (0.0, 1.0, 'C')\n",
      "Node arrival \t: (0.0, 1.0, 'D')\n",
      "Node arrival \t: (0.0, 10.0, 'E')\n",
      "Node arrival \t: (0.0, 4.0, 'F')\n",
      "Link arrival \t: (0.0, 4.0, 'A', 'B')\n",
      "Link arrival \t: (0.0, 1.0, 'C', 'D')\n",
      "Link arrival \t: (0.0, 4.0, 'E', 'F')\n",
      "Link departure \t: (1.0, 'C', 'D')\n",
      "Node departure \t: (1.0, 'C')\n",
      "Node departure \t: (1.0, 'D')\n",
      "Node arrival \t: (2.0, 4.0, 'D')\n",
      "Link arrival \t: (2.0, 4.0, 'D', 'E')\n",
      "Link arrival \t: (3.0, 4.0, 'D', 'F')\n",
      "Node arrival \t: (4.0, 6.0, 'C')\n",
      "Link arrival \t: (4.0, 5.0, 'B', 'C')\n",
      "Link departure \t: (4.0, 'A', 'B')\n",
      "Link departure \t: (4.0, 'D', 'E')\n",
      "Link departure \t: (4.0, 'D', 'F')\n",
      "Link departure \t: (4.0, 'E', 'F')\n",
      "Node departure \t: (4.0, 'D')\n",
      "Node departure \t: (4.0, 'F')\n",
      "Link arrival \t: (5.0, 5.0, 'C', 'E')\n",
      "Link departure \t: (5.0, 'B', 'C')\n",
      "Link departure \t: (5.0, 'C', 'E')\n",
      "Node departure \t: (5.0, 'A')\n",
      "Node arrival \t: (6.0, 10.0, 'F')\n",
      "Link arrival \t: (6.0, 10.0, 'E', 'F')\n",
      "Node departure \t: (6.0, 'C')\n",
      "Node arrival \t: (7.0, 10.0, 'A')\n",
      "Link arrival \t: (7.0, 7.0, 'B', 'E')\n",
      "Link departure \t: (7.0, 'B', 'E')\n",
      "Node arrival \t: (8.0, 10.0, 'D')\n",
      "Link arrival \t: (8.0, 9.0, 'A', 'B')\n",
      "Link arrival \t: (8.0, 10.0, 'D', 'E')\n",
      "Link departure \t: (9.0, 'A', 'B')\n",
      "Link departure \t: (10.0, 'D', 'E')\n",
      "Link departure \t: (10.0, 'E', 'F')\n",
      "Node departure \t: (10.0, 'A')\n",
      "Node departure \t: (10.0, 'B')\n",
      "Node departure \t: (10.0, 'D')\n",
      "Node departure \t: (10.0, 'E')\n",
      "Node departure \t: (10.0, 'F')\n"
     ]
    }
   ],
   "source": [
    "for e in S.ordered_events():\n",
    "    if e[0] == 2:\n",
    "        _,t0,t1,u = e\n",
    "        print(\"Node arrival \\t:\",(t0,t1,S.node_to_label[u]))\n",
    "    elif e[0] == 1:\n",
    "        _, t0, t1, u, v = e\n",
    "        print(\"Link arrival \\t:\",(t0,t1,S.node_to_label[u],S.node_to_label[v]))\n",
    "    elif e[0] == -1:\n",
    "        _, t1, u, v = e\n",
    "        print(\"Link departure \\t:\",(t1,S.node_to_label[u],S.node_to_label[v]))\n",
    "    elif e[0] == -2:\n",
    "        _,t1,u = e\n",
    "        print(\"Node departure \\t:\",(t1,S.node_to_label[u]))\n"
   ]
  },
  {
   "cell_type": "markdown",
   "metadata": {},
   "source": [
    "In ``Straph`` almost all algorithms are based on these data structures."
   ]
  },
  {
   "cell_type": "code",
   "execution_count": null,
   "metadata": {},
   "outputs": [],
   "source": []
  }
 ],
 "metadata": {
  "kernelspec": {
   "display_name": "Python 3",
   "language": "python",
   "name": "python3"
  },
  "language_info": {
   "codemirror_mode": {
    "name": "ipython",
    "version": 3
   },
   "file_extension": ".py",
   "mimetype": "text/x-python",
   "name": "python",
   "nbconvert_exporter": "python",
   "pygments_lexer": "ipython3",
   "version": "3.7.4"
  }
 },
 "nbformat": 4,
 "nbformat_minor": 4
}